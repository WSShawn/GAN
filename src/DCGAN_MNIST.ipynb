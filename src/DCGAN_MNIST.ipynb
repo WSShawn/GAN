{
  "cells": [
    {
      "cell_type": "markdown",
      "metadata": {
        "id": "view-in-github",
        "colab_type": "text"
      },
      "source": [
        "<a href=\"https://colab.research.google.com/github/buceleasebastian/GAN/blob/main/src/DCGAN_MNIST.ipynb\" target=\"_parent\"><img src=\"https://colab.research.google.com/assets/colab-badge.svg\" alt=\"Open In Colab\"/></a>"
      ]
    },
    {
      "cell_type": "code",
      "execution_count": 1,
      "metadata": {
        "id": "XHALSWF8oW4X"
      },
      "outputs": [],
      "source": [
        "import matplotlib.pyplot as plt\n",
        "import torch\n",
        "import random\n",
        "import torchvision\n",
        "import torchvision.utils as utils\n",
        "import torch.nn as nn\n",
        "from torchvision import datasets\n",
        "import torchvision.transforms as transforms\n",
        "from torchvision.transforms import ToTensor\n",
        "from torch.utils.data import DataLoader\n",
        "import matplotlib as plt\n",
        "import numpy as np\n",
        "import torch.optim as optim\n",
        "import matplotlib.pyplot as plt\n",
        "from torch.nn.modules.batchnorm import BatchNorm2d\n",
        "from torch.nn.modules.conv import ConvTranspose2d\n",
        "\n",
        "\n",
        "\"\"\"Generator and Discriminator hyperparameters\n",
        "\n",
        "Parameters taken as arguments in the initialization of the Generator and Discriminator Network\n",
        "\n",
        "Parameters\n",
        "\n",
        "----------\n",
        "n_channels : number of channels of the image, corresponds to the number of channel of the input for the discriminator and the output for the generator - set to 3 for an RGB image\n",
        "size_latent : size of the latent noise vector taken as input for the Generator\n",
        "disc_features : size of the feature maps passed as input for the discriminator\n",
        "gen_features : size of feature maps (images obtained after applying the convolution) in the generator\n",
        "image_size : size of each images\n",
        "----------\n",
        "\n",
        "References \n",
        "\n",
        "----------\n",
        "\n",
        "  [1^]  [Radford A., Metz L. Chintala S. (2016) : Unsupervised Representation Learning with Deep Convolutional Generative Adversarial Networks] (https://arxiv.org/abs/1511.06434)\n",
        "  [2^]  [Inkawich, N - DCGAN Tutorial] (https://pytorch.org/tutorials/beginner/dcgan_faces_tutorial.html)\n",
        "\n",
        "\"\"\"\n",
        "\n",
        "\n",
        "#device initialization\n",
        "device = torch.device(\"cuda:0\" if (torch.cuda.is_available()) else \"cpu\")\n",
        "\n",
        "#Number of channels of the training images\n",
        "n_channels = 1\n",
        "\n",
        "#Size of the latent vector\n",
        "size_latent = 100\n",
        "\n",
        "#Discriminator feature maps size\n",
        "disc_features = 32\n",
        "\n",
        "#Generator feature maps size\n",
        "gen_features = 32\n",
        "\n",
        "#Image size \n",
        "image_size = 32"
      ]
    },
    {
      "cell_type": "markdown",
      "metadata": {
        "id": "5GMOVLWMyFmh"
      },
      "source": [
        "#Deep Convolutional Generative Adversarial Networks"
      ]
    },
    {
      "cell_type": "markdown",
      "metadata": {
        "id": "KEthWuDRx74i"
      },
      "source": [
        "#Data Loading"
      ]
    },
    {
      "cell_type": "code",
      "execution_count": null,
      "metadata": {
        "id": "lb1m5yJxmYrH"
      },
      "outputs": [],
      "source": [
        "#The dataset can be downloaded at the following link : \n",
        "data = datasets.MNIST(root=\"https://pytorch.org/vision/stable/generated/torchvision.datasets.MNIST.html\", download = True, transform=ToTensor())\n"
      ]
    },
    {
      "cell_type": "code",
      "execution_count": 3,
      "metadata": {
        "id": "xs3Dv1M3F-Ri"
      },
      "outputs": [],
      "source": [
        "dataloader = DataLoader(data, batch_size=64, shuffle=True, num_workers=2)"
      ]
    },
    {
      "cell_type": "markdown",
      "metadata": {
        "id": "PUZVRQv1F9zg"
      },
      "source": []
    },
    {
      "cell_type": "markdown",
      "metadata": {
        "id": "Ev0Xq-lcobo0"
      },
      "source": [
        "#Parameter Initialization"
      ]
    },
    {
      "cell_type": "markdown",
      "metadata": {
        "id": "4K5FSwflo3Q_"
      },
      "source": [
        "##Image hyperparameters"
      ]
    },
    {
      "cell_type": "markdown",
      "metadata": {
        "id": "AtEcX3Qpp0Pw"
      },
      "source": [
        "##Optimization parameters"
      ]
    },
    {
      "cell_type": "code",
      "execution_count": 18,
      "metadata": {
        "id": "-k9HWttQp7tj"
      },
      "outputs": [],
      "source": [
        "\"\"\"Optimization hyperparameters\n",
        "\n",
        "Parameters taken as arguments during training \n",
        "\n",
        "Parameters\n",
        "\n",
        "----------\n",
        "batch_size : number of samples that \n",
        "lr : learning rate, dictates the pace at which the networks update the values of parameter estimates\n",
        "beta1 and beta2 : initial decay rates for the Adam optimizer\n",
        "epochs : number of times the network will pass through the entire dataset\n",
        "\n",
        "----------\n",
        "\n",
        "References \n",
        "\n",
        "----------\n",
        "\n",
        "[1^]  [Radford A., Metz L. Chintala S. (2016) : Unsupervised Representation Learning with Deep Convolutional Generative Adversarial Networks] (https://arxiv.org/abs/1511.06434)\n",
        "[2^]  [Inkawich, N - DCGAN Tutorial] (https://pytorch.org/tutorials/beginner/dcgan_faces_tutorial.html)\n",
        "\n",
        "\"\"\"\n",
        "#Batch size\n",
        "batch_size = 32\n",
        "\n",
        "#Optimizer learning rate\n",
        "lr = 0.0002\n",
        "\n",
        "#Adam optimizer beta hyperparameters\n",
        "beta1 = 0.5\n",
        "beta2 = 0.999\n",
        "\n",
        "#Number of training epochs\n",
        "epochs = 5"
      ]
    },
    {
      "cell_type": "markdown",
      "metadata": {
        "id": "O99co_K4rCzU"
      },
      "source": [
        "#Data description"
      ]
    },
    {
      "cell_type": "markdown",
      "metadata": {
        "id": "gCeqIA7CtzjW"
      },
      "source": [
        "##Plotting some images from the datase"
      ]
    },
    {
      "cell_type": "code",
      "execution_count": null,
      "metadata": {
        "id": "LvGULYH7sCYV"
      },
      "outputs": [],
      "source": [
        "\"\"\"Plot of some of the images in the training set\n",
        "\n",
        "References \n",
        "\n",
        "----------\n",
        "\n",
        "[1^]  [Inkawich, N - DCGAN Tutorial] (https://pytorch.org/tutorials/beginner/dcgan_faces_tutorial.html)\n",
        "\n",
        "\"\"\"\n",
        "###Pure python code can be found here\n",
        "### https://pytorch.org/tutorials/beginner/dcgan_faces_tutorial.html\n",
        "\n",
        "\n",
        "batch = next(iter(dataloader))\n",
        "plt.figure(figsize = (16,16))\n",
        "plt.title(\"Images from the training set\")\n",
        "plt.imshow(np.transpose(utils.make_grid(batch[0].to(device)[:64], padding = 1, normalize = True).cpu(),(1,2,0)))"
      ]
    },
    {
      "cell_type": "markdown",
      "metadata": {
        "id": "nVlQ-BMAve-J"
      },
      "source": [
        "#Generator and Discriminator"
      ]
    },
    {
      "cell_type": "markdown",
      "metadata": {
        "id": "WAbVqHI8vhDn"
      },
      "source": [
        "##Generator"
      ]
    },
    {
      "cell_type": "code",
      "execution_count": 6,
      "metadata": {
        "id": "gjw02QvVvicv"
      },
      "outputs": [],
      "source": [
        "class Generator(nn.Module):\n",
        "\n",
        "  \"\"\"Generator class Network\n",
        "  \n",
        "  Class inherits from pytorch Neural Network Module\n",
        "  We are taking the noise vector and then we are passing 2D Transposed Convolutional layers, that are paired with Batch Normalization Layers and a ReLU activation function.\n",
        "  Class is composed by the __init__ function for initialization and a function __layers which corresponds to a block of a Convolutional 2D layer, a Batch Normalization Layer \n",
        "  and the ReLU activation function.\n",
        "\n",
        "  Parameters\n",
        "\n",
        "  ----------\n",
        "  latent_dim : dimension of the latent noise vector\n",
        "  channels : number of channels of the output image\n",
        "  gen_features : size of feature maps (images obtained after applying the convolution) in the generator \n",
        "  ----------\n",
        "\n",
        "  References \n",
        "\n",
        "  ----------\n",
        "\n",
        "  [1^]  [Radford A., Metz L. Chintala S. (2016) : Unsupervised Representation Learning with Deep Convolutional Generative Adversarial Networks] (https://arxiv.org/abs/1511.06434)\n",
        "  [2^]  [DCGAN Repository] (https://github.com/aladdinpersson/Machine-Learning-Collection/blob/master/ML/Pytorch/GANs/2.%20DCGAN/model.py)\n",
        "\n",
        "  \"\"\"\n",
        "  ### Pure python implementation can be found here\n",
        "  ### https://github.com/aladdinpersson/Machine-Learning-Collection/blob/master/ML/Pytorch/GANs/2.%20DCGAN/model.py\n",
        "\n",
        "  def __init__(self, latent_dim, channels, gen_features): \n",
        "    super(Generator, self).__init__()\n",
        "    self.gen = nn.Sequential(\n",
        "       #Convolution of input Z\n",
        "       self._layers(latent_dim, gen_features*4, 4, 1, 0),\n",
        "      \n",
        "       #Dimension gen_features*4 x 8 x 8\n",
        "       self._layers(gen_features*4, gen_features*2, 4, 2, 1),\n",
        "\n",
        "       #Dimension gen_features*2 x 16 x 16\n",
        "       self._layers(gen_features*2, gen_features, 4, 2, 1),\n",
        "\n",
        "       #Dimension gen_features x 32 x 32\n",
        "       nn.ConvTranspose2d(gen_features, \n",
        "                         channels, \n",
        "                         kernel_size = 4, \n",
        "                         stride = 2, \n",
        "                         padding = 1\n",
        "                          ),\n",
        "      nn.Tanh()\n",
        "      )\n",
        " \n",
        "  #Creation of block of layers : Transposed Convolution, Batch Normalization, ReLU \n",
        "  def _layers(self, channels_input, channels_output, kernel_size, stride, padding): \n",
        "      return nn.Sequential(\n",
        "          nn.ConvTranspose2d(channels_input, \n",
        "                             channels_output,\n",
        "                             kernel_size,\n",
        "                             stride, \n",
        "                             padding, \n",
        "                             bias = False),\n",
        "          nn.BatchNorm2d(channels_output),\n",
        "          nn.ReLU(),\n",
        "      )\n",
        "\n",
        "\n",
        "  def forward(self, x):\n",
        "     return self.gen(x)"
      ]
    },
    {
      "cell_type": "markdown",
      "metadata": {
        "id": "iBs8O9LBx1PX"
      },
      "source": [
        "##Discriminator"
      ]
    },
    {
      "cell_type": "code",
      "execution_count": 7,
      "metadata": {
        "id": "4QdcsBR53nek"
      },
      "outputs": [],
      "source": [
        "class Discriminator(nn.Module):\n",
        "\n",
        " def __init__(self, channels, disc_features):\n",
        "   \n",
        "  \"\"\"Discriminator Class Network\n",
        "\n",
        "  Class inherits from pytorch Neural Network Module\n",
        "  Takes an image as input and outputs the probability that the image is real by applying a series of Convolutional 2D, Batch Normalization and LeakyReLU layers using function _layers.\n",
        "  Output is generated through a sigmoid function.\n",
        "\n",
        "  Parameters\n",
        "\n",
        "  ----------  \n",
        "  channels : number of channels in the initial image\n",
        "  disc_features : number of channels that are going to change as we are passing through the discriminator\n",
        "  ----------\n",
        "\n",
        "  References \n",
        "\n",
        "  ----------\n",
        "\n",
        "  [1^]  [Radford A., Metz L. Chintala S. (2016) : Unsupervised Representation Learning with Deep Convolutional Generative Adversarial Networks] (https://arxiv.org/abs/1511.06434)\n",
        "  [2^]  [DCGAN Repository] (https://github.com/aladdinpersson/Machine-Learning-Collection/blob/master/ML/Pytorch/GANs/2.%20DCGAN/model.py)\n",
        "\n",
        "  \"\"\"\n",
        "  ### Pure python implementation can be found here\n",
        "  ### https://github.com/aladdinpersson/Machine-Learning-Collection/blob/master/ML/Pytorch/GANs/2.%20DCGAN/model.py\n",
        "  super(Discriminator, self).__init__()\n",
        "  self.disc = nn.Sequential(\n",
        "        #Input : N x channels x 64 x 64\n",
        "        nn.Conv2d(\n",
        "            channels, \n",
        "            disc_features, \n",
        "            kernel_size = 4, \n",
        "            stride = 2, \n",
        "            padding = 1\n",
        "        ),\n",
        "        nn.LeakyReLU(0.2),\n",
        "        \n",
        "        #Dimension disc_features x 32 x 32\n",
        "        self._layers(disc_features, disc_features*2, 1, 2, 1),\n",
        "\n",
        "        #Dimension disc_features x 8 x 8\n",
        "        self._layers(disc_features*2, disc_features*4, 1, 2, 1),\n",
        "        \n",
        "        #Dimension disc_feature x 2 x 2\n",
        "        nn.Conv2d(disc_features*4, 1, 1, 2, 0),\n",
        "        nn.Sigmoid()\n",
        "    )\n",
        "   \n",
        "    #Creation of block of layers : convolution, normalization, LeakyReLU\n",
        " def _layers(self, channels_input, channels_output, kernel_size, stride, padding):\n",
        "       return nn.Sequential(\n",
        "         nn.Conv2d(\n",
        "            channels_input,\n",
        "            channels_output,\n",
        "            kernel_size,\n",
        "            stride,\n",
        "            padding,\n",
        "            bias = False\n",
        "        ),\n",
        "        nn.BatchNorm2d(channels_output),\n",
        "        nn.LeakyReLU(0.2)\n",
        "    )\n",
        "\n",
        "  \n",
        " def forward(self, x):\n",
        "      return self.disc(x)"
      ]
    },
    {
      "cell_type": "markdown",
      "metadata": {
        "id": "O56Z2yuXymL8"
      },
      "source": [
        "##Weights initialization"
      ]
    },
    {
      "cell_type": "code",
      "execution_count": 8,
      "metadata": {
        "id": "Jy_zrgpkylat"
      },
      "outputs": [],
      "source": [
        "#Initialization of Normally distributed weights with mean 0 and sd 0.2\n",
        "def weights_initialization(model):\n",
        "\n",
        "  \n",
        "  \"\"\"Weights initialization function\n",
        "\n",
        "  Takes model as input and initializes the weights in each of its layer\n",
        "  Initialization of Normally distributed weights with mean 0 and standard deviation 0.2\n",
        "\n",
        "  Parameters\n",
        "\n",
        "  ----------  \n",
        "  model : Generator or discriminator, taken as input\n",
        "  ----------\n",
        "\n",
        "  References \n",
        "\n",
        "  ----------\n",
        "\n",
        "  [1^]  [Radford A., Metz L. Chintala S. (2016) : Unsupervised Representation Learning with Deep Convolutional Generative Adversarial Networks] (https://arxiv.org/abs/1511.06434)\n",
        "  [2^]  [DCGAN Repository] (https://github.com/aladdinpersson/Machine-Learning-Collection/blob/master/ML/Pytorch/GANs/2.%20DCGAN/model.py)\n",
        "\"\"\"\n",
        "\n",
        "  ### Pure python implementation can be found here\n",
        "  ### https://github.com/aladdinpersson/Machine-Learning-Collection/blob/master/ML/Pytorch/GANs/2.%20DCGAN/model.py\n",
        "\n",
        "  for module in model.modules():\n",
        "    if module == nn.Conv2d or module == nn.ConvTranspose2d or module == nn.BatchNorm2d :\n",
        "      nn.init.normal_(model.weight.data, 0.0, 0.02)"
      ]
    },
    {
      "cell_type": "markdown",
      "metadata": {
        "id": "vRyVBBlgMCIe"
      },
      "source": [
        "##Training and test setup"
      ]
    },
    {
      "cell_type": "markdown",
      "metadata": {
        "id": "qH8jpjeR-byr"
      },
      "source": [
        "##Training Loop"
      ]
    },
    {
      "cell_type": "code",
      "execution_count": null,
      "metadata": {
        "id": "Ic3oQ3Pp-aPi"
      },
      "outputs": [],
      "source": [
        "\"\"\"Training Loop\n",
        "\n",
        "Initialization of Generator and Discriminator, initialization of their weights and optimizers\n",
        "Initialization of Binary Cross-Entropy as loss function\n",
        "Initialization of empty lists of losses\n",
        "\n",
        "Passage through each batch and each epoch and optimization of objective functions for the discriminator and the generator\n",
        "Once every 100 iterations, images are added to the image list.\n",
        "\n",
        "\n",
        "Objects\n",
        "\n",
        "----------\n",
        "disc : discriminator\n",
        "gen : generator\n",
        "gen_optimizer : Adam optimizer taking generator's parameters as input, as well as its hyperparameters\n",
        "disc_optimizer : Adam optimizer taking discriminator's parameters as input, as well as its hyperparameters\n",
        "criterion : Binary Cross Entropy Loss Function\n",
        "step : counter for the number of iterations\n",
        "D_losses : list of calculated losses at each iterations for the discriminator\n",
        "G_obj : list of calculated values for the objective function at each iteraton for the generator\n",
        "img_list : list of generated images\n",
        "\n",
        "References \n",
        "\n",
        "----------\n",
        "\n",
        "[1^]  [Radford A., Metz L. Chintala S. (2016) : Unsupervised Representation Learning with Deep Convolutional Generative Adversarial Networks] (https://arxiv.org/abs/1511.06434)\n",
        "[2^]  [Inkawich, N - DCGAN Tutorial] (https://pytorch.org/tutorials/beginner/dcgan_faces_tutorial.html)\n",
        "\n",
        "\"\"\"\n",
        "### Pure python implementation can be found here\n",
        "### https://github.com/aladdinpersson/Machine-Learning-Collection/blob/master/ML/Pytorch/GANs/2.%20DCGAN/train.py\n",
        "\n",
        "### Pure python implementation can be found here\n",
        "### https://github.com/aladdinpersson/Machine-Learning-Collection/blob/master/ML/Pytorch/GANs/2.%20DCGAN/train.py\n",
        "\n",
        "\n",
        "#Networks initialization with given hyperparameters\n",
        "disc = Discriminator(n_channels, disc_features).to(device)\n",
        "gen = Generator(size_latent, n_channels, gen_features).to(device)\n",
        "\n",
        "#Weights initialization with mean 0 and sd 0.2\n",
        "weights_initialization(disc)\n",
        "weights_initialization(gen)\n",
        "\n",
        "#Adam optimizers initialization for Discriminator and Generator with beta velus corresponding to the paper\n",
        "gen_optimizer = optim.Adam(gen.parameters(), lr = lr, betas = (beta1, beta2))\n",
        "disc_optimizer = optim.Adam(disc.parameters(), lr = lr, betas = (beta1, beta2))\n",
        "\n",
        "#Binary Cross-Entropy loss criterion\n",
        "criterion = nn.BCELoss()\n",
        "\n",
        "#Training step\n",
        "step = 0\n",
        "\n",
        "#Initial noise vector initialization for further comparison\n",
        "init_noise = torch.randn(32, size_latent, 1, 1).to(device)\n",
        "\n",
        "gen.train()\n",
        "disc.train()\n",
        "\n",
        "#List of losses\n",
        "D_losses = []\n",
        "G_obj = []\n",
        "img_list = []\n",
        "\n",
        "#Training Loop\n",
        "for epoch in range(epochs):\n",
        "  for batch, (real_image, targets) in enumerate(dataloader):\n",
        "    print(\"Batch number \" + str(batch))\n",
        "    \n",
        "    #Uploading real image to gpu\n",
        "    real_image = real_image.to(device)\n",
        "\n",
        "    #Generating noise vectors\n",
        "    noise = torch.randn((batch_size, size_latent, 1, 1)).to(device)\n",
        "    \n",
        "    #Generating fake image from noise\n",
        "    fake = gen(noise)\n",
        "\n",
        "    #Train discriminator\n",
        "\n",
        "    #Discriminator on real image\n",
        "    disc_real = disc(real_image).reshape(-1)\n",
        "    loss_disc_real = criterion(disc_real, torch.ones_like(disc_real))\n",
        "\n",
        "\n",
        "    #Discriminator on fake image\n",
        "    disc_fake = disc(fake).reshape(-1)\n",
        "    loss_disc_fake = criterion(disc_fake, torch.zeros_like(disc_fake))\n",
        "    disc_loss = (loss_disc_real + loss_disc_fake)\n",
        "    D_losses.append(disc_loss.item())\n",
        "    print(\"Discriminator Loss :\" + str(disc_loss))\n",
        "\n",
        "    #Discriminator loss optimization\n",
        "    disc.zero_grad()\n",
        "    disc_loss.backward(retain_graph = True)\n",
        "    disc_optimizer.step()\n",
        "\n",
        "\n",
        "    #Train generator\n",
        "\n",
        "    #Discriminate fake and get loss\n",
        "    output = disc(fake).reshape(-1)\n",
        "    generator_obj = criterion(output, torch.ones_like(output))\n",
        "    G_obj.append(generator_obj.item())\n",
        "    print(\"Generator Loss :\" + str(generator_obj))\n",
        "\n",
        "    #Generator Adam optimization\n",
        "    gen.zero_grad()\n",
        "    generator_loss.backward()\n",
        "    gen_optimizer.step()\n",
        "\n",
        "    if step % 1000 == 0:\n",
        "\n",
        "      with torch.no_grad():\n",
        "        fake = gen(init_noise).detach().cpu()\n",
        "      img_list.append(fake)\n",
        "    step = step + 1\n"
      ]
    },
    {
      "cell_type": "code",
      "execution_count": null,
      "metadata": {
        "id": "XKaLuPHx7hVk"
      },
      "outputs": [],
      "source": [
        "\"\"\"Plot of objective functions\n",
        "\n",
        "Loss function should be decreasing for the Discriminator, while the objective function should be increasing\n",
        "\n",
        "References \n",
        "\n",
        "----------\n",
        "\n",
        "[1^]  [Inkawich, N - DCGAN Tutorial] (https://pytorch.org/tutorials/beginner/dcgan_faces_tutorial.html)\n",
        "\n",
        "\"\"\"\n",
        "\n",
        "#Graph of objective functions\n",
        "plt.figure(figsize = (10,10))\n",
        "plt.title(\"Loss functions evolution\")\n",
        "plt.plot(G_obj, label = \"Generator\")\n",
        "plt.plot(D_losses, label = \"Discriminator\")\n",
        "plt.xlabel(\"Iterations\")\n",
        "plt.legend()\n",
        "plt.show()"
      ]
    },
    {
      "cell_type": "code",
      "execution_count": null,
      "metadata": {
        "id": "INUFdootFNRW"
      },
      "outputs": [],
      "source": [
        "\"\"\"Plot of obtained images throught imshow\n",
        "\n",
        "\n",
        "References \n",
        "\n",
        "----------\n",
        "\n",
        "[1^]  [Inkawich, N - DCGAN Tutorial] (https://pytorch.org/tutorials/beginner/dcgan_faces_tutorial.html)\n",
        "\n",
        "\"\"\"\n",
        "\n",
        "image = next(iter(img_list))\n",
        "plt.figure(figsize = (16,16))\n",
        "plt.axis(\"off\")\n",
        "plt.title(\"Generated images\")\n",
        "plt.imshow(np.transpose(utils.make_grid(image.to(device), padding = 1, normalize = True).cpu(),(1,2,0)))"
      ]
    }
  ],
  "metadata": {
    "colab": {
      "provenance": [],
      "mount_file_id": "1YDaOqPt1XVMl3fzC7vUAkmp8GoQ__H8J",
      "authorship_tag": "ABX9TyNahVCHgSjxhF2NlYnchRIi",
      "include_colab_link": true
    },
    "gpuClass": "premium",
    "kernelspec": {
      "display_name": "Python 3",
      "name": "python3"
    },
    "language_info": {
      "name": "python"
    }
  },
  "nbformat": 4,
  "nbformat_minor": 0
}